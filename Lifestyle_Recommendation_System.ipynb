{
  "nbformat": 4,
  "nbformat_minor": 0,
  "metadata": {
    "colab": {
      "provenance": [],
      "authorship_tag": "ABX9TyPdcZb+RbGaw5pxEKcG9KQc",
      "include_colab_link": true
    },
    "kernelspec": {
      "name": "python3",
      "display_name": "Python 3"
    },
    "language_info": {
      "name": "python"
    }
  },
  "cells": [
    {
      "cell_type": "markdown",
      "metadata": {
        "id": "view-in-github",
        "colab_type": "text"
      },
      "source": [
        "<a href=\"https://colab.research.google.com/github/Kp-bishi/New/blob/main/Lifestyle_Recommendation_System.ipynb\" target=\"_parent\"><img src=\"https://colab.research.google.com/assets/colab-badge.svg\" alt=\"Open In Colab\"/></a>"
      ]
    },
    {
      "cell_type": "code",
      "execution_count": 9,
      "metadata": {
        "colab": {
          "base_uri": "https://localhost:8080/"
        },
        "id": "-8JhwCXLPWX9",
        "outputId": "8878a5c7-3afc-4b09-da6b-c1d16ecc3283"
      },
      "outputs": [
        {
          "output_type": "stream",
          "name": "stdout",
          "text": [
            "  Patient_ID,Age,Gender,BMI,Activity_Level,Health_Condition,Smoker,Alcohol_Intake,Dietary_Preference,Sleep_Hours,Recommended_Diet,Recommended_Exercise,Notes,Sugar_Level,Cholesterol,Water_Intake,Calorie_Target\n",
            "0  P001,58,Female,25.5,Moderate,Hypertension,No,R...                                                                                                                                                            \n",
            "1  P002,34,Female,19.3,Active,Diabetes,Yes,None,N...                                                                                                                                                            \n",
            "2  P003,22,Female,26.7,Active,None,Yes,Occasional...                                                                                                                                                            \n",
            "3  P004,43,Female,30.3,Moderate,Obesity,No,Regula...                                                                                                                                                            \n",
            "4  P005,73,Female,38.7,Moderate,Obesity,Yes,Regul...                                                                                                                                                            \n",
            "['Patient_ID,Age,Gender,BMI,Activity_Level,Health_Condition,Smoker,Alcohol_Intake,Dietary_Preference,Sleep_Hours,Recommended_Diet,Recommended_Exercise,Notes,Sugar_Level,Cholesterol,Water_Intake,Calorie_Target']\n",
            "Sample patient profile:\n",
            " {'Patient_ID,Age,Gender,BMI,Activity_Level,Health_Condition,Smoker,Alcohol_Intake,Dietary_Preference,Sleep_Hours,Recommended_Diet,Recommended_Exercise,Notes,Sugar_Level,Cholesterol,Water_Intake,Calorie_Target': 'P001,58,Female,25.5,Moderate,Hypertension,No,Regular,Vegan,4.4,Keto,Yoga,Needs regular checkups,138,196,1.1,2421'}\n"
          ]
        }
      ],
      "source": [
        "import pandas as pd\n",
        "\n",
        "# Load dataset, specifying the delimiter (e.g., if it's a tab)\n",
        "# Replace \"your_file_path.csv\" with the actual file path of the downloaded data\n",
        "# Also, update sep if the delimiter isn't a tab (\\t)\n",
        "df = pd.read_csv(\"https://drive.google.com/uc?id=1TuraN5gh_ABJ42GubPX304MEBs04LNgP&export=download\", sep=\"\\t\")\n",
        "\n",
        "# Display first few records\n",
        "print(df.head())\n",
        "\n",
        "# Let's check columns\n",
        "print(df.columns.tolist())\n",
        "\n",
        "# Example: select a sample patient\n",
        "sample_patient = df.iloc[0].to_dict()\n",
        "print(\"Sample patient profile:\\n\", sample_patient)"
      ]
    },
    {
      "cell_type": "code",
      "source": [
        "# Build a Rule-Based Engine\n",
        "def lifestyle_rules_engine(patient):\n",
        "    recommendations = []\n",
        "\n",
        "    # BMI-based rules\n",
        "    if patient['BMI'] >= 30:\n",
        "        recommendations.append(\"Follow a low-carb diet plan.\")\n",
        "        recommendations.append(\"Engage in 30 mins of cardio, 5 days a week.\")\n",
        "    elif 25 <= patient['BMI'] < 30:\n",
        "        recommendations.append(\"Consider a Mediterranean diet.\")\n",
        "        recommendations.append(\"Exercise 3-4 times a week, moderate intensity.\")\n",
        "    else:\n",
        "        recommendations.append(\"Maintain a balanced diet with regular activity.\")\n",
        "        recommendations.append(\"Daily walking and stretching are recommended.\")\n",
        "\n",
        "    # Chronic Conditions\n",
        "    if 'Diabetes' in patient['Chronic_Conditions']:\n",
        "        recommendations.append(\"Avoid sugary foods. Include more fiber.\")\n",
        "    if 'Hypertension' in patient['Chronic_Conditions']:\n",
        "        recommendations.append(\"Reduce salt intake. Incorporate yoga or breathing exercises.\")\n",
        "\n",
        "    # Age-based suggestion\n",
        "    if patient['Age'] > 60:\n",
        "        recommendations.append(\"Incorporate light resistance training to preserve muscle mass.\")\n",
        "        recommendations.append(\"Hydration and joint care are important.\")\n",
        "\n",
        "    return recommendations\n"
      ],
      "metadata": {
        "id": "WNwKXCrFS37I"
      },
      "execution_count": 10,
      "outputs": []
    },
    {
      "cell_type": "code",
      "source": [
        "#Run the Recommendation Engine\n",
        "import pandas as pd\n",
        "\n",
        "# Load dataset, specifying the delimiter (e.g., if it's a tab)\n",
        "# Replace \"your_file_path.csv\" with the actual file path of the downloaded data\n",
        "# Also, update sep if the delimiter isn't a tab (\\t)\n",
        "df = pd.read_csv(\"https://drive.google.com/uc?id=1TuraN5gh_ABJ42GubPX304MEBs04LNgP&export=download\", sep=\"\\t\")\n",
        "\n",
        "# Display first few records\n",
        "print(df.head())\n",
        "\n",
        "# Let's check columns\n",
        "print(df.columns.tolist())\n",
        "\n",
        "# Example: select a sample patient\n",
        "sample_patient = df.iloc[0].to_dict()\n",
        "print(\"Sample patient profile:\\n\", sample_patient)\n",
        "\n",
        "\n",
        "# Build a Rule-Based Engine\n",
        "def lifestyle_rules_engine(patient):\n",
        "    recommendations = []\n",
        "\n",
        "    # BMI-based rules\n",
        "    # Accessing 'BMI' column, if it's named differently, replace 'BMI' with the actual column name\n",
        "    bmi_key = 'BMI'  # Replace 'BMI' with the actual column name if different\n",
        "    if patient.get(bmi_key, 0) >= 30: # Using get with a default value to avoid KeyError if 'BMI' is missing\n",
        "        recommendations.append(\"Follow a low-carb diet plan.\")\n",
        "        recommendations.append(\"Engage in 30 mins of cardio, 5 days a week.\")\n",
        "import pandas as pd\n",
        "\n",
        "# Load dataset, specifying the delimiter (e.g., if it's a tab)\n",
        "# Replace \"your_file_path.csv\" with the actual file path of the downloaded data\n",
        "# Also, update sep if the delimiter isn't a tab (\\t)\n",
        "df = pd.read_csv(\"https://drive.google.com/uc?id=1TuraN5gh_ABJ42GubPX304MEBs04LNgP&export=download\", sep=\"\\t\")\n",
        "\n",
        "# Display first few records\n",
        "print(df.head())\n",
        "\n",
        "# Let's check columns\n",
        "print(df.columns.tolist())\n",
        "\n",
        "# Example: select a sample patient\n",
        "sample_patient = df.iloc[0].to_dict()\n",
        "print(\"Sample patient profile:\\n\", sample_patient)\n",
        "\n",
        "\n",
        "# Build a Rule-Based Engine\n",
        "def lifestyle_rules_engine(patient):\n",
        "    recommendations = []\n",
        "\n",
        "    # BMI-based rules\n",
        "    # Accessing 'BMI' column, if it's named differently, replace 'BMI' with the actual column name\n",
        "    bmi_key = 'BMI'  # Replace 'BMI' with the actual column name if different\n",
        "    if patient.get(bmi_key, 0) >= 30: # Using get with a default value to avoid KeyError if 'BMI' is missing\n",
        "        recommendations.append(\"Follow a low-carb diet plan.\")\n",
        "        recommendations.append(\"Engage in 30 mins of cardio, 5 days a week.\")\n",
        "    elif 25 <= patient.get(bmi_key, 0) < 30:\n",
        "        recommendations.append(\"Consider a Mediterranean diet.\")\n",
        "        recommendations.append(\"Exercise\") #Fixed the syntax error here - missing closing parenthesis\n",
        "\n",
        "    return recommendations\n",
        "\n",
        "# Example usage\n",
        "recommendations = lifestyle_rules_engine(sample_patient)\n",
        "print(\"\\nRecommendations:\\n\", recommendations)"
      ],
      "metadata": {
        "colab": {
          "base_uri": "https://localhost:8080/"
        },
        "id": "wuDPKFtRTNsP",
        "outputId": "9ced973d-0ff7-4958-868c-545a6524f8dc"
      },
      "execution_count": 26,
      "outputs": [
        {
          "output_type": "stream",
          "name": "stdout",
          "text": [
            "  Patient_ID,Age,Gender,BMI,Activity_Level,Health_Condition,Smoker,Alcohol_Intake,Dietary_Preference,Sleep_Hours,Recommended_Diet,Recommended_Exercise,Notes,Sugar_Level,Cholesterol,Water_Intake,Calorie_Target\n",
            "0  P001,58,Female,25.5,Moderate,Hypertension,No,R...                                                                                                                                                            \n",
            "1  P002,34,Female,19.3,Active,Diabetes,Yes,None,N...                                                                                                                                                            \n",
            "2  P003,22,Female,26.7,Active,None,Yes,Occasional...                                                                                                                                                            \n",
            "3  P004,43,Female,30.3,Moderate,Obesity,No,Regula...                                                                                                                                                            \n",
            "4  P005,73,Female,38.7,Moderate,Obesity,Yes,Regul...                                                                                                                                                            \n",
            "['Patient_ID,Age,Gender,BMI,Activity_Level,Health_Condition,Smoker,Alcohol_Intake,Dietary_Preference,Sleep_Hours,Recommended_Diet,Recommended_Exercise,Notes,Sugar_Level,Cholesterol,Water_Intake,Calorie_Target']\n",
            "Sample patient profile:\n",
            " {'Patient_ID,Age,Gender,BMI,Activity_Level,Health_Condition,Smoker,Alcohol_Intake,Dietary_Preference,Sleep_Hours,Recommended_Diet,Recommended_Exercise,Notes,Sugar_Level,Cholesterol,Water_Intake,Calorie_Target': 'P001,58,Female,25.5,Moderate,Hypertension,No,Regular,Vegan,4.4,Keto,Yoga,Needs regular checkups,138,196,1.1,2421'}\n",
            "  Patient_ID,Age,Gender,BMI,Activity_Level,Health_Condition,Smoker,Alcohol_Intake,Dietary_Preference,Sleep_Hours,Recommended_Diet,Recommended_Exercise,Notes,Sugar_Level,Cholesterol,Water_Intake,Calorie_Target\n",
            "0  P001,58,Female,25.5,Moderate,Hypertension,No,R...                                                                                                                                                            \n",
            "1  P002,34,Female,19.3,Active,Diabetes,Yes,None,N...                                                                                                                                                            \n",
            "2  P003,22,Female,26.7,Active,None,Yes,Occasional...                                                                                                                                                            \n",
            "3  P004,43,Female,30.3,Moderate,Obesity,No,Regula...                                                                                                                                                            \n",
            "4  P005,73,Female,38.7,Moderate,Obesity,Yes,Regul...                                                                                                                                                            \n",
            "['Patient_ID,Age,Gender,BMI,Activity_Level,Health_Condition,Smoker,Alcohol_Intake,Dietary_Preference,Sleep_Hours,Recommended_Diet,Recommended_Exercise,Notes,Sugar_Level,Cholesterol,Water_Intake,Calorie_Target']\n",
            "Sample patient profile:\n",
            " {'Patient_ID,Age,Gender,BMI,Activity_Level,Health_Condition,Smoker,Alcohol_Intake,Dietary_Preference,Sleep_Hours,Recommended_Diet,Recommended_Exercise,Notes,Sugar_Level,Cholesterol,Water_Intake,Calorie_Target': 'P001,58,Female,25.5,Moderate,Hypertension,No,Regular,Vegan,4.4,Keto,Yoga,Needs regular checkups,138,196,1.1,2421'}\n",
            "\n",
            "Recommendations:\n",
            " []\n"
          ]
        }
      ]
    },
    {
      "cell_type": "code",
      "source": [
        "# -------------------------------------------\n",
        "# 🧱 Step 1: Define Patient Profile\n",
        "# -------------------------------------------\n",
        "patient = {\n",
        "    \"Patient_ID\": \"P001\",\n",
        "    \"Age\": 45,\n",
        "    \"Gender\": \"Male\",\n",
        "    \"BMI\": 30.2,\n",
        "    \"Activity_Level\": \"Sedentary\",  # Options: Sedentary, Moderate, Active\n",
        "    \"Health_Condition\": \"Hypertension\",  # Could be Diabetes, Obesity, etc.\n",
        "    \"Smoker\": \"Yes\",\n",
        "    \"Alcohol_Intake\": \"Occasionally\",  # None, Occasionally, Regular\n",
        "    \"Dietary_Preference\": \"Vegetarian\",  # Vegetarian, Non-Vegetarian, Vegan\n",
        "    \"Sleep_Hours\": 5.5\n",
        "}\n",
        "\n",
        "# -------------------------------------------\n",
        "# 🧠 Step 2: Recommendation Engine\n",
        "# -------------------------------------------\n",
        "def recommend_lifestyle(profile):\n",
        "    diet = []\n",
        "    exercise = []\n",
        "    notes = []\n",
        "\n",
        "    # --- Diet Rules ---\n",
        "    if profile[\"Health_Condition\"] == \"Hypertension\":\n",
        "        diet.append(\"Low Sodium\")\n",
        "        notes.append(\"Reduce salt intake to manage blood pressure.\")\n",
        "\n",
        "    if profile[\"BMI\"] > 25:\n",
        "        diet.append(\"Low Calorie\")\n",
        "        notes.append(\"Consider calorie restriction to manage weight.\")\n",
        "\n",
        "    if profile[\"Dietary_Preference\"] == \"Vegetarian\":\n",
        "        diet.append(\"High Protein Vegetarian\")\n",
        "    elif profile[\"Dietary_Preference\"] == \"Vegan\":\n",
        "        diet.append(\"Whole Food Plant-Based\")\n",
        "    else:\n",
        "        diet.append(\"Balanced Diet\")\n",
        "\n",
        "    # --- Exercise Rules ---\n",
        "    if profile[\"Activity_Level\"] == \"Sedentary\":\n",
        "        exercise.append(\"Walking\")\n",
        "    elif profile[\"Activity_Level\"] == \"Moderate\":\n",
        "        exercise.append(\"Jogging or Cycling\")\n",
        "    else:\n",
        "        exercise.append(\"Cardio + Resistance Training\")\n",
        "\n",
        "    # --- Lifestyle Notes ---\n",
        "    if profile[\"Sleep_Hours\"] < 6:\n",
        "        notes.append(\"Increase sleep duration to at least 7 hours.\")\n",
        "\n",
        "    if profile[\"Smoker\"] == \"Yes\":\n",
        "        notes.append(\"Smoking cessation strongly recommended.\")\n",
        "\n",
        "    if profile[\"Alcohol_Intake\"] == \"Regular\":\n",
        "        notes.append(\"Limit alcohol to moderate levels.\")\n",
        "\n",
        "    return {\n",
        "        \"Recommended_Diet\": \", \".join(diet),\n",
        "        \"Recommended_Exercise\": \", \".join(exercise),\n",
        "        \"Notes\": notes\n",
        "    }\n",
        "\n",
        "# -------------------------------------------\n",
        "# 🧪 Step 3: Run & Print Recommendation\n",
        "# -------------------------------------------\n",
        "recommendation = recommend_lifestyle(patient)\n",
        "\n",
        "print(\"🧾 Lifestyle Recommendation Report\")\n",
        "print(f\"👤 Patient ID: {patient['Patient_ID']}\")\n",
        "print(f\"🍽️ Diet: {recommendation['Recommended_Diet']}\")\n",
        "print(f\"🏃 Exercise: {recommendation['Recommended_Exercise']}\")\n",
        "print(\"📝 Notes:\")\n",
        "for note in recommendation[\"Notes\"]:\n",
        "    print(f\"- {note}\")\n"
      ],
      "metadata": {
        "colab": {
          "base_uri": "https://localhost:8080/"
        },
        "id": "IpYPtjBMeXBB",
        "outputId": "9a0a40ed-b45d-407e-a536-adb7b4671c1c"
      },
      "execution_count": 30,
      "outputs": [
        {
          "output_type": "stream",
          "name": "stdout",
          "text": [
            "🧾 Lifestyle Recommendation Report\n",
            "👤 Patient ID: P001\n",
            "🍽️ Diet: Low Sodium, Low Calorie, High Protein Vegetarian\n",
            "🏃 Exercise: Walking\n",
            "📝 Notes:\n",
            "- Reduce salt intake to manage blood pressure.\n",
            "- Consider calorie restriction to manage weight.\n",
            "- Increase sleep duration to at least 7 hours.\n",
            "- Smoking cessation strongly recommended.\n"
          ]
        }
      ]
    },
    {
      "cell_type": "code",
      "source": [
        "from google.colab import drive\n",
        "drive.mount('/content/drive')"
      ],
      "metadata": {
        "colab": {
          "base_uri": "https://localhost:8080/"
        },
        "id": "mfpdUqFQVd0a",
        "outputId": "5124d106-40fc-4f3f-95cd-77c2cedd49a6"
      },
      "execution_count": 18,
      "outputs": [
        {
          "output_type": "stream",
          "name": "stdout",
          "text": [
            "Mounted at /content/drive\n"
          ]
        }
      ]
    },
    {
      "cell_type": "code",
      "source": [
        "#Load Data & Explore One Patient\n",
        "import pandas as pd\n",
        "\n",
        "# Load lifestyle recommendation dataset\n",
        "df_lifestyle = pd.read_csv(\"https://drive.google.com/uc?id=1TuraN5gh_ABJ42GubPX304MEBs04LNgP&export=download\")\n",
        "\n",
        "# View dataset shape and columns\n",
        "print(\"Data shape:\", df_lifestyle.shape)\n",
        "print(\"Columns:\", df_lifestyle.columns.tolist())\n",
        "\n",
        "# View first sample record\n",
        "sample_patient = df_lifestyle.iloc[0].to_dict()\n",
        "print(\"Sample patient profile:\\n\", sample_patient)\n"
      ],
      "metadata": {
        "colab": {
          "base_uri": "https://localhost:8080/"
        },
        "id": "FMUDLpGxV6gM",
        "outputId": "1f1ddca9-893c-450b-ece6-c7240e95b194"
      },
      "execution_count": 25,
      "outputs": [
        {
          "output_type": "stream",
          "name": "stdout",
          "text": [
            "Data shape: (100, 17)\n",
            "Columns: ['Patient_ID', 'Age', 'Gender', 'BMI', 'Activity_Level', 'Health_Condition', 'Smoker', 'Alcohol_Intake', 'Dietary_Preference', 'Sleep_Hours', 'Recommended_Diet', 'Recommended_Exercise', 'Notes', 'Sugar_Level', 'Cholesterol', 'Water_Intake', 'Calorie_Target']\n",
            "Sample patient profile:\n",
            " {'Patient_ID': 'P001', 'Age': 58, 'Gender': 'Female', 'BMI': 25.5, 'Activity_Level': 'Moderate', 'Health_Condition': 'Hypertension', 'Smoker': 'No', 'Alcohol_Intake': 'Regular', 'Dietary_Preference': 'Vegan', 'Sleep_Hours': 4.4, 'Recommended_Diet': 'Keto', 'Recommended_Exercise': 'Yoga', 'Notes': 'Needs regular checkups', 'Sugar_Level': 138, 'Cholesterol': 196, 'Water_Intake': 1.1, 'Calorie_Target': 2421}\n"
          ]
        }
      ]
    }
  ]
}